{
  "nbformat": 4,
  "nbformat_minor": 0,
  "metadata": {
    "colab": {
      "provenance": []
    },
    "kernelspec": {
      "name": "python3",
      "display_name": "Python 3"
    },
    "language_info": {
      "name": "python"
    },
    "accelerator": "GPU",
    "gpuClass": "standard"
  },
  "cells": [
    {
      "cell_type": "code",
      "execution_count": null,
      "metadata": {
        "id": "Gd0GWrlylT3P"
      },
      "outputs": [],
      "source": []
    },
    {
      "cell_type": "code",
      "execution_count": 15,
      "metadata": {
        "id": "61DDnniwi7AV"
      },
      "outputs": [],
      "source": [
        "import numpy as np\n",
        "import matplotlib.pyplot as plt\n",
        "import tensorflow as tf\n",
        "from tensorflow import keras\n",
        "%matplotlib inline\n",
        "from tensorflow.keras.datasets import cifar10\n",
        "from tensorflow.keras.models import Sequential\n",
        "from tensorflow.keras.layers import Dense, Dropout, Flatten\n",
        "from tensorflow.keras.layers import Input, Conv2D, Dense, Flatten, Dropout\n",
        "from tensorflow.keras import utils\n",
        "\n"
      ]
    },
    {
      "cell_type": "code",
      "source": [
        "(x_train, y_train), (x_test, y_test) = cifar10.load_data()\n",
        "assert x_train.shape == (50000, 32, 32, 3)\n",
        "assert x_test.shape == (10000, 32, 32, 3)\n",
        "assert y_train.shape == (50000, 1)\n",
        "assert y_test.shape == (10000, 1)\n"
      ],
      "metadata": {
        "id": "TSPBqdf0uOx2"
      },
      "execution_count": 16,
      "outputs": []
    },
    {
      "cell_type": "code",
      "source": [
        "class_names = ('airplane','automobile','bird','cat','deer','dog','frog','horse','ship','truck')\n"
      ],
      "metadata": {
        "id": "dPwII6NVuTOP"
      },
      "execution_count": 17,
      "outputs": []
    },
    {
      "cell_type": "code",
      "source": [
        "x_train = x_train.astype('float32')\n",
        "x_test = x_test.astype('float32')\n",
        "x_train = x_train / 255.0\n",
        "x_test = x_test / 255.0\n",
        "y_train = y_train.flatten()\n",
        "y_test = y_test.flatten()\n",
        "\n",
        "plt.figure()\n",
        "plt.imshow(x_train[5])\n",
        "plt.colorbar()\n",
        "plt.grid(False)"
      ],
      "metadata": {
        "colab": {
          "base_uri": "https://localhost:8080/",
          "height": 430
        },
        "id": "FuE9B3X9uWXX",
        "outputId": "a5b9a510-5b90-4ce8-d070-9a5114f60a87"
      },
      "execution_count": 18,
      "outputs": [
        {
          "output_type": "display_data",
          "data": {
            "text/plain": [
              "<Figure size 640x480 with 2 Axes>"
            ],
            "image/png": "[encoded data removed]"
          },
          "metadata": {}
        }
      ]
    },
    {
      "cell_type": "code",
      "source": [
        "model = keras.Sequential()\n",
        "model.add(keras.layers.Conv2D(32, (3, 3), activation='relu', input_shape=(32, 32, 3)))\n",
        "model.add(keras.layers.MaxPooling2D((2, 2)))\n",
        "model.add(keras.layers.Conv2D(64, (3, 3), activation='relu'))\n",
        "model.add(keras.layers.MaxPooling2D((2, 2)))\n",
        "model.add(keras.layers.Conv2D(64, (3, 3), activation='relu'))\n",
        "\n",
        "model.summary()"
      ],
      "metadata": {
        "colab": {
          "base_uri": "https://localhost:8080/"
        },
        "id": "O4TkIl1VlcTp",
        "outputId": "4dcb09cf-07dd-47b9-854e-0b061ea6ecd4"
      },
      "execution_count": 19,
      "outputs": [
        {
          "output_type": "stream",
          "name": "stdout",
          "text": [
            "Model: \"sequential_2\"\n",
            "_________________________________________________________________\n",
            " Layer (type)                Output Shape              Param #   \n",
            "=================================================================\n",
            " conv2d_6 (Conv2D)           (None, 30, 30, 32)        896       \n",
            "                                                                 \n",
            " max_pooling2d_4 (MaxPooling  (None, 15, 15, 32)       0         \n",
            " 2D)                                                             \n",
            "                                                                 \n",
            " conv2d_7 (Conv2D)           (None, 13, 13, 64)        18496     \n",
            "                                                                 \n",
            " max_pooling2d_5 (MaxPooling  (None, 6, 6, 64)         0         \n",
            " 2D)                                                             \n",
            "                                                                 \n",
            " conv2d_8 (Conv2D)           (None, 4, 4, 64)          36928     \n",
            "                                                                 \n",
            "=================================================================\n",
            "Total params: 56,320\n",
            "Trainable params: 56,320\n",
            "Non-trainable params: 0\n",
            "_________________________________________________________________\n"
          ]
        }
      ]
    },
    {
      "cell_type": "code",
      "source": [
        "model.add(keras.layers.Flatten())\n",
        "model.add(keras.layers.Dense(256, activation='relu'))\n",
        "model.add(keras.layers.Dense(10))\n",
        "\n",
        "model.summary()"
      ],
      "metadata": {
        "colab": {
          "base_uri": "https://localhost:8080/"
        },
        "id": "slqcm0k7A7vh",
        "outputId": "bbf53042-4f50-4276-d78a-4b3c86995d0e"
      },
      "execution_count": 20,
      "outputs": [
        {
          "output_type": "stream",
          "name": "stdout",
          "text": [
            "Model: \"sequential_2\"\n",
            "_________________________________________________________________\n",
            " Layer (type)                Output Shape              Param #   \n",
            "=================================================================\n",
            " conv2d_6 (Conv2D)           (None, 30, 30, 32)        896       \n",
            "                                                                 \n",
            " max_pooling2d_4 (MaxPooling  (None, 15, 15, 32)       0         \n",
            " 2D)                                                             \n",
            "                                                                 \n",
            " conv2d_7 (Conv2D)           (None, 13, 13, 64)        18496     \n",
            "                                                                 \n",
            " max_pooling2d_5 (MaxPooling  (None, 6, 6, 64)         0         \n",
            " 2D)                                                             \n",
            "                                                                 \n",
            " conv2d_8 (Conv2D)           (None, 4, 4, 64)          36928     \n",
            "                                                                 \n",
            " flatten_2 (Flatten)         (None, 1024)              0         \n",
            "                                                                 \n",
            " dense_4 (Dense)             (None, 256)               262400    \n",
            "                                                                 \n",
            " dense_5 (Dense)             (None, 10)                2570      \n",
            "                                                                 \n",
            "=================================================================\n",
            "Total params: 321,290\n",
            "Trainable params: 321,290\n",
            "Non-trainable params: 0\n",
            "_________________________________________________________________\n"
          ]
        }
      ]
    },
    {
      "cell_type": "code",
      "source": [
        "model.compile(optimizer = tf.keras.optimizers.Nadam(use_ema=True),\n",
        "              loss = tf.keras.losses.SparseCategoricalCrossentropy(from_logits=True),\n",
        "              metrics=['accuracy'])"
      ],
      "metadata": {
        "id": "H95z8x_vBV6w"
      },
      "execution_count": 21,
      "outputs": []
    },
    {
      "cell_type": "code",
      "source": [
        "model.fit(x_train, y_train, epochs = 18)\n",
        "test_loss, test_acc = model.evaluate(x_test, y_test)\n",
        "print('Test loss:', test_loss)\n",
        "print('Test accuracy:', test_acc)"
      ],
      "metadata": {
        "colab": {
          "base_uri": "https://localhost:8080/"
        },
        "id": "xPtcuYcTlhlq",
        "outputId": "5b6c0257-8326-4245-a8fc-82410fb46e09"
      },
      "execution_count": 22,
      "outputs": [
        {
          "output_type": "stream",
          "name": "stdout",
          "text": [
            "Epoch 1/18\n",
            "1563/1563 [==============================] - 13s 6ms/step - loss: 1.3846 - accuracy: 0.4966\n",
            "Epoch 2/18\n",
            "1563/1563 [==============================] - 9s 6ms/step - loss: 1.0219 - accuracy: 0.6393\n",
            "Epoch 3/18\n",
            "1563/1563 [==============================] - 9s 6ms/step - loss: 0.8686 - accuracy: 0.6961\n",
            "Epoch 4/18\n",
            "1563/1563 [==============================] - 9s 6ms/step - loss: 0.7606 - accuracy: 0.7336\n",
            "Epoch 5/18\n",
            "1563/1563 [==============================] - 8s 5ms/step - loss: 0.6795 - accuracy: 0.7625\n",
            "Epoch 6/18\n",
            "1563/1563 [==============================] - 9s 6ms/step - loss: 0.6057 - accuracy: 0.7869\n",
            "Epoch 7/18\n",
            "1563/1563 [==============================] - 9s 6ms/step - loss: 0.5387 - accuracy: 0.8108\n",
            "Epoch 8/18\n",
            "1563/1563 [==============================] - 9s 6ms/step - loss: 0.4747 - accuracy: 0.8324\n",
            "Epoch 9/18\n",
            "1563/1563 [==============================] - 9s 5ms/step - loss: 0.4128 - accuracy: 0.8529\n",
            "Epoch 10/18\n",
            "1563/1563 [==============================] - 9s 6ms/step - loss: 0.3570 - accuracy: 0.8714\n",
            "Epoch 11/18\n",
            "1563/1563 [==============================] - 9s 6ms/step - loss: 0.3023 - accuracy: 0.8926\n",
            "Epoch 12/18\n",
            "1563/1563 [==============================] - 8s 5ms/step - loss: 0.2580 - accuracy: 0.9078\n",
            "Epoch 13/18\n",
            "1563/1563 [==============================] - 9s 6ms/step - loss: 0.2253 - accuracy: 0.9185\n",
            "Epoch 14/18\n",
            "1563/1563 [==============================] - 11s 7ms/step - loss: 0.1945 - accuracy: 0.9307\n",
            "Epoch 15/18\n",
            "1563/1563 [==============================] - 10s 6ms/step - loss: 0.1731 - accuracy: 0.9390\n",
            "Epoch 16/18\n",
            "1563/1563 [==============================] - 9s 6ms/step - loss: 0.1535 - accuracy: 0.9453\n",
            "Epoch 17/18\n",
            "1563/1563 [==============================] - 9s 6ms/step - loss: 0.1493 - accuracy: 0.9466\n",
            "Epoch 18/18\n",
            "1563/1563 [==============================] - 9s 6ms/step - loss: 0.1397 - accuracy: 0.9509\n",
            "313/313 [==============================] - 1s 3ms/step - loss: 1.5213 - accuracy: 0.7241\n",
            "Test loss: 1.5212781429290771\n",
            "Test accuracy: 0.7240999937057495\n"
          ]
        }
      ]
    },
    {
      "cell_type": "code",
      "source": [
        "im = 5\n",
        "\n",
        "predictions[im]\n",
        "\n",
        "np.argmax(predictions[im])\n",
        "y_test[im]\n",
        "\n",
        "plt.figure()\n",
        "plt.imshow(x_test[im])\n",
        "plt.colorbar()\n",
        "plt.grid(False)\n",
        "plt.xlabel(class_names[y_test[im]])\n",
        "\n",
        "y_test[im]"
      ],
      "metadata": {
        "colab": {
          "base_uri": "https://localhost:8080/",
          "height": 466
        },
        "id": "-NiFL3Ixlj7t",
        "outputId": "b3ef17b6-251b-494c-f77e-a579449cf47b"
      },
      "execution_count": 23,
      "outputs": [
        {
          "output_type": "execute_result",
          "data": {
            "text/plain": [
              "6"
            ]
          },
          "metadata": {},
          "execution_count": 23
        },
        {
          "output_type": "display_data",
          "data": {
            "text/plain": [
              "<Figure size 640x480 with 2 Axes>"
            ],
            "image/png": "[encoded data removed]"
          },
          "metadata": {}
        }
      ]
    }
  ]
}